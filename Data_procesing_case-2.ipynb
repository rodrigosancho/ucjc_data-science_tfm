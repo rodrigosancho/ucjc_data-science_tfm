{
 "cells": [
  {
   "attachments": {},
   "cell_type": "markdown",
   "metadata": {},
   "source": [
    "# Caso 2\n",
    "## Barcelona - Madrid"
   ]
  },
  {
   "attachments": {},
   "cell_type": "markdown",
   "metadata": {},
   "source": [
    "### Constants"
   ]
  },
  {
   "cell_type": "code",
   "execution_count": 3,
   "metadata": {},
   "outputs": [],
   "source": [
    "DEPARTURE = 'LEBL'\n",
    "DESTINATION = 'LEMD'\n",
    "\n",
    "FLIGHTS_PATH = 'data/flights'\n",
    "FLIGHTS_POINTS_PATH = 'data/flight_points'\n",
    "\n",
    "CLEAN_TAXI = True\n",
    "\n",
    "REPORT_PATH = f'results/case-2'\n",
    "REPORT_DATA = {\n",
    "  'title': 'Case 2',\n",
    "  'subtitle': 'Flight from Barcelona to Madrid.'\n",
    "}"
   ]
  },
  {
   "cell_type": "code",
   "execution_count": 4,
   "metadata": {},
   "outputs": [
    {
     "ename": "TypeError",
     "evalue": "build_reporting_pipeline() missing 1 required positional argument: 'report_data'",
     "output_type": "error",
     "traceback": [
      "\u001b[0;31m---------------------------------------------------------------------------\u001b[0m",
      "\u001b[0;31mTypeError\u001b[0m                                 Traceback (most recent call last)",
      "Cell \u001b[0;32mIn[4], line 9\u001b[0m\n\u001b[1;32m      3\u001b[0m data_pipeline \u001b[39m=\u001b[39m build_data_pipeline(flights_path \u001b[39m=\u001b[39m FLIGHTS_PATH, \n\u001b[1;32m      4\u001b[0m                                     flights_points_path \u001b[39m=\u001b[39m FLIGHTS_POINTS_PATH, \n\u001b[1;32m      5\u001b[0m                                     departure \u001b[39m=\u001b[39m DEPARTURE, \n\u001b[1;32m      6\u001b[0m                                     destinations \u001b[39m=\u001b[39m [DESTINATION],\n\u001b[1;32m      7\u001b[0m                                     clean_taxi\u001b[39m=\u001b[39mCLEAN_TAXI)\n\u001b[1;32m      8\u001b[0m models_pipeline \u001b[39m=\u001b[39m build_models_pipeline()\n\u001b[0;32m----> 9\u001b[0m reporting_pipeline \u001b[39m=\u001b[39m build_reporting_pipeline(report_path\u001b[39m=\u001b[39;49mREPORT_PATH)\n\u001b[1;32m     11\u001b[0m data \u001b[39m=\u001b[39m data_pipeline\u001b[39m.\u001b[39mtransform(\u001b[39mNone\u001b[39;00m)\n\u001b[1;32m     12\u001b[0m models \u001b[39m=\u001b[39m models_pipeline\u001b[39m.\u001b[39mtransform(data)\n",
      "\u001b[0;31mTypeError\u001b[0m: build_reporting_pipeline() missing 1 required positional argument: 'report_data'"
     ]
    }
   ],
   "source": [
    "from src.pipeline import build_data_pipeline, build_models_pipeline, build_reporting_pipeline\n",
    "\n",
    "data_pipeline = build_data_pipeline(flights_path = FLIGHTS_PATH, \n",
    "                                    flights_points_path = FLIGHTS_POINTS_PATH, \n",
    "                                    departure = DEPARTURE, \n",
    "                                    destinations = [DESTINATION],\n",
    "                                    clean_taxi=CLEAN_TAXI)\n",
    "models_pipeline = build_models_pipeline()\n",
    "reporting_pipeline = build_reporting_pipeline(report_path=REPORT_PATH, report_data=REPORT_DATA)\n",
    "\n",
    "data = data_pipeline.transform(None)\n",
    "models = models_pipeline.transform(data)\n",
    "reporting = reporting_pipeline.transform({'models': models, 'data': data})"
   ]
  }
 ],
 "metadata": {
  "kernelspec": {
   "display_name": "Python 3",
   "language": "python",
   "name": "python3"
  },
  "language_info": {
   "codemirror_mode": {
    "name": "ipython",
    "version": 3
   },
   "file_extension": ".py",
   "mimetype": "text/x-python",
   "name": "python",
   "nbconvert_exporter": "python",
   "pygments_lexer": "ipython3",
   "version": "3.8.16"
  },
  "orig_nbformat": 4,
  "vscode": {
   "interpreter": {
    "hash": "102b085bfa223543e802b398684b747cf319c656b74b496c5cad38784f25757a"
   }
  }
 },
 "nbformat": 4,
 "nbformat_minor": 2
}
