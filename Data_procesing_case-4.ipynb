{
 "cells": [
  {
   "attachments": {},
   "cell_type": "markdown",
   "metadata": {},
   "source": [
    "# Caso 4\n",
    "## Madrid - Varios destinos\n",
    "##### Similar al caso 3 solo que no se el periodo de taxi en el conjunto de datos"
   ]
  },
  {
   "attachments": {},
   "cell_type": "markdown",
   "metadata": {},
   "source": [
    "### Constants"
   ]
  },
  {
   "cell_type": "code",
   "execution_count": 1,
   "metadata": {},
   "outputs": [],
   "source": [
    "DEPARTURE = 'LEMD'\n",
    "DESTINATION = [\n",
    "  'LEAS',\n",
    "  'LEBB',\n",
    "  'LEBL',\n",
    "  'LECO',\n",
    "  'LEGR',\n",
    "  'LEJR'\n",
    "]\n",
    "\n",
    "FLIGHTS_PATH = 'data/flights'\n",
    "FLIGHTS_POINTS_PATH = 'data/flight_points'\n",
    "\n",
    "CLEAN_TAXI = False\n",
    "\n",
    "REPORT_PATH = f'results/case-4'\n",
    "REPORT_DATA = {\n",
    "  'title': 'Case 4',\n",
    "  'subtitle': 'Flight from Madrid to Alicante, Barcelona, Bilbao, Coruña, Córdoba, Granada and Jerez taking into account the taxi period.'\n",
    "}"
   ]
  },
  {
   "cell_type": "code",
   "execution_count": 2,
   "metadata": {},
   "outputs": [],
   "source": [
    "from src.pipeline import build_data_pipeline, build_models_pipeline, build_reporting_pipeline\n",
    "\n",
    "data_pipeline = build_data_pipeline(flights_path = FLIGHTS_PATH, \n",
    "                                    flights_points_path = FLIGHTS_POINTS_PATH, \n",
    "                                    departure = DEPARTURE, \n",
    "                                    destinations = DESTINATION,\n",
    "                                    clean_taxi = CLEAN_TAXI)\n",
    "models_pipeline = build_models_pipeline()\n",
    "reporting_pipeline = build_reporting_pipeline(report_path=REPORT_PATH, report_data=REPORT_DATA)\n",
    "\n",
    "data = data_pipeline.transform(None)\n",
    "models = models_pipeline.transform(data)\n",
    "reporting = reporting_pipeline.transform({'models': models, 'data': data})"
   ]
  }
 ],
 "metadata": {
  "kernelspec": {
   "display_name": "Python 3",
   "language": "python",
   "name": "python3"
  },
  "language_info": {
   "codemirror_mode": {
    "name": "ipython",
    "version": 3
   },
   "file_extension": ".py",
   "mimetype": "text/x-python",
   "name": "python",
   "nbconvert_exporter": "python",
   "pygments_lexer": "ipython3",
   "version": "3.8.16"
  },
  "orig_nbformat": 4,
  "vscode": {
   "interpreter": {
    "hash": "102b085bfa223543e802b398684b747cf319c656b74b496c5cad38784f25757a"
   }
  }
 },
 "nbformat": 4,
 "nbformat_minor": 2
}
